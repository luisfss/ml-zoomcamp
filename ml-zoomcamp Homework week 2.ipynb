{
 "cells": [
  {
   "cell_type": "markdown",
   "id": "bb749dcf",
   "metadata": {},
   "source": [
    "# Homework week 2"
   ]
  },
  {
   "cell_type": "code",
   "execution_count": 90,
   "id": "5c99a9c7",
   "metadata": {},
   "outputs": [],
   "source": [
    "#importing libraries\n",
    "\n",
    "import pandas as pd\n",
    "import numpy as np\n",
    "import seaborn as sns\n",
    "from matplotlib import pyplot as plt\n",
    "\n",
    "%matplotlib inline"
   ]
  },
  {
   "cell_type": "code",
   "execution_count": 91,
   "id": "7ca841ef",
   "metadata": {},
   "outputs": [],
   "source": [
    "# Getting the Data\n",
    "data = 'https://raw.githubusercontent.com/alexeygrigorev/datasets/master/housing.csv'"
   ]
  },
  {
   "cell_type": "code",
   "execution_count": 92,
   "id": "3cedcb87",
   "metadata": {
    "scrolled": true
   },
   "outputs": [],
   "source": [
    "#!wget $data"
   ]
  },
  {
   "cell_type": "code",
   "execution_count": 93,
   "id": "e9a19ba4",
   "metadata": {},
   "outputs": [],
   "source": [
    "df = pd.read_csv('housing.csv')"
   ]
  },
  {
   "cell_type": "code",
   "execution_count": 94,
   "id": "02a73d1b",
   "metadata": {},
   "outputs": [
    {
     "data": {
      "text/html": [
       "<div>\n",
       "<style scoped>\n",
       "    .dataframe tbody tr th:only-of-type {\n",
       "        vertical-align: middle;\n",
       "    }\n",
       "\n",
       "    .dataframe tbody tr th {\n",
       "        vertical-align: top;\n",
       "    }\n",
       "\n",
       "    .dataframe thead th {\n",
       "        text-align: right;\n",
       "    }\n",
       "</style>\n",
       "<table border=\"1\" class=\"dataframe\">\n",
       "  <thead>\n",
       "    <tr style=\"text-align: right;\">\n",
       "      <th></th>\n",
       "      <th>longitude</th>\n",
       "      <th>latitude</th>\n",
       "      <th>housing_median_age</th>\n",
       "      <th>total_rooms</th>\n",
       "      <th>total_bedrooms</th>\n",
       "      <th>population</th>\n",
       "      <th>households</th>\n",
       "      <th>median_income</th>\n",
       "      <th>median_house_value</th>\n",
       "      <th>ocean_proximity</th>\n",
       "    </tr>\n",
       "  </thead>\n",
       "  <tbody>\n",
       "    <tr>\n",
       "      <th>0</th>\n",
       "      <td>-122.23</td>\n",
       "      <td>37.88</td>\n",
       "      <td>41.0</td>\n",
       "      <td>880.0</td>\n",
       "      <td>129.0</td>\n",
       "      <td>322.0</td>\n",
       "      <td>126.0</td>\n",
       "      <td>8.3252</td>\n",
       "      <td>452600.0</td>\n",
       "      <td>NEAR BAY</td>\n",
       "    </tr>\n",
       "    <tr>\n",
       "      <th>1</th>\n",
       "      <td>-122.22</td>\n",
       "      <td>37.86</td>\n",
       "      <td>21.0</td>\n",
       "      <td>7099.0</td>\n",
       "      <td>1106.0</td>\n",
       "      <td>2401.0</td>\n",
       "      <td>1138.0</td>\n",
       "      <td>8.3014</td>\n",
       "      <td>358500.0</td>\n",
       "      <td>NEAR BAY</td>\n",
       "    </tr>\n",
       "    <tr>\n",
       "      <th>2</th>\n",
       "      <td>-122.24</td>\n",
       "      <td>37.85</td>\n",
       "      <td>52.0</td>\n",
       "      <td>1467.0</td>\n",
       "      <td>190.0</td>\n",
       "      <td>496.0</td>\n",
       "      <td>177.0</td>\n",
       "      <td>7.2574</td>\n",
       "      <td>352100.0</td>\n",
       "      <td>NEAR BAY</td>\n",
       "    </tr>\n",
       "    <tr>\n",
       "      <th>3</th>\n",
       "      <td>-122.25</td>\n",
       "      <td>37.85</td>\n",
       "      <td>52.0</td>\n",
       "      <td>1274.0</td>\n",
       "      <td>235.0</td>\n",
       "      <td>558.0</td>\n",
       "      <td>219.0</td>\n",
       "      <td>5.6431</td>\n",
       "      <td>341300.0</td>\n",
       "      <td>NEAR BAY</td>\n",
       "    </tr>\n",
       "    <tr>\n",
       "      <th>4</th>\n",
       "      <td>-122.25</td>\n",
       "      <td>37.85</td>\n",
       "      <td>52.0</td>\n",
       "      <td>1627.0</td>\n",
       "      <td>280.0</td>\n",
       "      <td>565.0</td>\n",
       "      <td>259.0</td>\n",
       "      <td>3.8462</td>\n",
       "      <td>342200.0</td>\n",
       "      <td>NEAR BAY</td>\n",
       "    </tr>\n",
       "  </tbody>\n",
       "</table>\n",
       "</div>"
      ],
      "text/plain": [
       "   longitude  latitude  housing_median_age  total_rooms  total_bedrooms  \\\n",
       "0    -122.23     37.88                41.0        880.0           129.0   \n",
       "1    -122.22     37.86                21.0       7099.0          1106.0   \n",
       "2    -122.24     37.85                52.0       1467.0           190.0   \n",
       "3    -122.25     37.85                52.0       1274.0           235.0   \n",
       "4    -122.25     37.85                52.0       1627.0           280.0   \n",
       "\n",
       "   population  households  median_income  median_house_value ocean_proximity  \n",
       "0       322.0       126.0         8.3252            452600.0        NEAR BAY  \n",
       "1      2401.0      1138.0         8.3014            358500.0        NEAR BAY  \n",
       "2       496.0       177.0         7.2574            352100.0        NEAR BAY  \n",
       "3       558.0       219.0         5.6431            341300.0        NEAR BAY  \n",
       "4       565.0       259.0         3.8462            342200.0        NEAR BAY  "
      ]
     },
     "execution_count": 94,
     "metadata": {},
     "output_type": "execute_result"
    }
   ],
   "source": [
    "df.head()"
   ]
  },
  {
   "cell_type": "markdown",
   "id": "7a906a8e",
   "metadata": {},
   "source": [
    "## EDA"
   ]
  },
  {
   "cell_type": "code",
   "execution_count": 95,
   "id": "b68c960a",
   "metadata": {},
   "outputs": [
    {
     "data": {
      "image/png": "[encoded data removed]",
      "text/plain": [
       "<Figure size 600x400 with 1 Axes>"
      ]
     },
     "metadata": {},
     "output_type": "display_data"
    }
   ],
   "source": [
    "plt.figure(figsize=(6, 4))\n",
    "\n",
    "sns.histplot(df['median_house_value'], bins=40,  alpha=1)\n",
    "plt.ylabel('Frequency')\n",
    "plt.xlabel('Median House Value')\n",
    "plt.title('Distribution of Median House Value')\n",
    "\n",
    "plt.show()"
   ]
  },
  {
   "cell_type": "code",
   "execution_count": 96,
   "id": "506de4a4",
   "metadata": {},
   "outputs": [
    {
     "name": "stdout",
     "output_type": "stream",
     "text": [
      "The visualization shows us that the variable has a long tail.\n"
     ]
    }
   ],
   "source": [
    "print('The visualization shows us that the variable has a long tail.')"
   ]
  },
  {
   "cell_type": "markdown",
   "id": "5d6b0be1",
   "metadata": {},
   "source": [
    "## Preparing the dataset"
   ]
  },
  {
   "cell_type": "code",
   "execution_count": 97,
   "id": "76c4d66d",
   "metadata": {},
   "outputs": [],
   "source": [
    "df = df[df['ocean_proximity'].isin(['<1H OCEAN', 'INLAND'])]"
   ]
  },
  {
   "cell_type": "code",
   "execution_count": 98,
   "id": "2f7bec94",
   "metadata": {},
   "outputs": [],
   "source": [
    "selected_columns = [\n",
    "    'latitude',\n",
    "    'longitude',\n",
    "    'housing_median_age',\n",
    "    'total_rooms',\n",
    "    'total_bedrooms',\n",
    "    'population',\n",
    "    'households',\n",
    "    'median_income',\n",
    "    'median_house_value'\n",
    "]\n",
    "\n",
    "df = df[selected_columns].reset_index(drop=True)"
   ]
  },
  {
   "cell_type": "code",
   "execution_count": 99,
   "id": "d87f5c94",
   "metadata": {},
   "outputs": [
    {
     "data": {
      "text/html": [
       "<div>\n",
       "<style scoped>\n",
       "    .dataframe tbody tr th:only-of-type {\n",
       "        vertical-align: middle;\n",
       "    }\n",
       "\n",
       "    .dataframe tbody tr th {\n",
       "        vertical-align: top;\n",
       "    }\n",
       "\n",
       "    .dataframe thead th {\n",
       "        text-align: right;\n",
       "    }\n",
       "</style>\n",
       "<table border=\"1\" class=\"dataframe\">\n",
       "  <thead>\n",
       "    <tr style=\"text-align: right;\">\n",
       "      <th></th>\n",
       "      <th>latitude</th>\n",
       "      <th>longitude</th>\n",
       "      <th>housing_median_age</th>\n",
       "      <th>total_rooms</th>\n",
       "      <th>total_bedrooms</th>\n",
       "      <th>population</th>\n",
       "      <th>households</th>\n",
       "      <th>median_income</th>\n",
       "      <th>median_house_value</th>\n",
       "    </tr>\n",
       "  </thead>\n",
       "  <tbody>\n",
       "    <tr>\n",
       "      <th>0</th>\n",
       "      <td>37.64</td>\n",
       "      <td>-121.97</td>\n",
       "      <td>32.0</td>\n",
       "      <td>1283.0</td>\n",
       "      <td>194.0</td>\n",
       "      <td>485.0</td>\n",
       "      <td>171.0</td>\n",
       "      <td>6.0574</td>\n",
       "      <td>431000.0</td>\n",
       "    </tr>\n",
       "    <tr>\n",
       "      <th>1</th>\n",
       "      <td>37.61</td>\n",
       "      <td>-121.99</td>\n",
       "      <td>9.0</td>\n",
       "      <td>3666.0</td>\n",
       "      <td>711.0</td>\n",
       "      <td>2341.0</td>\n",
       "      <td>703.0</td>\n",
       "      <td>4.6458</td>\n",
       "      <td>217000.0</td>\n",
       "    </tr>\n",
       "    <tr>\n",
       "      <th>2</th>\n",
       "      <td>37.57</td>\n",
       "      <td>-121.97</td>\n",
       "      <td>21.0</td>\n",
       "      <td>4342.0</td>\n",
       "      <td>783.0</td>\n",
       "      <td>2172.0</td>\n",
       "      <td>789.0</td>\n",
       "      <td>4.6146</td>\n",
       "      <td>247600.0</td>\n",
       "    </tr>\n",
       "    <tr>\n",
       "      <th>3</th>\n",
       "      <td>37.58</td>\n",
       "      <td>-121.96</td>\n",
       "      <td>15.0</td>\n",
       "      <td>3575.0</td>\n",
       "      <td>597.0</td>\n",
       "      <td>1777.0</td>\n",
       "      <td>559.0</td>\n",
       "      <td>5.7192</td>\n",
       "      <td>283500.0</td>\n",
       "    </tr>\n",
       "    <tr>\n",
       "      <th>4</th>\n",
       "      <td>37.58</td>\n",
       "      <td>-121.98</td>\n",
       "      <td>20.0</td>\n",
       "      <td>4126.0</td>\n",
       "      <td>1031.0</td>\n",
       "      <td>2079.0</td>\n",
       "      <td>975.0</td>\n",
       "      <td>3.6832</td>\n",
       "      <td>216900.0</td>\n",
       "    </tr>\n",
       "  </tbody>\n",
       "</table>\n",
       "</div>"
      ],
      "text/plain": [
       "   latitude  longitude  housing_median_age  total_rooms  total_bedrooms  \\\n",
       "0     37.64    -121.97                32.0       1283.0           194.0   \n",
       "1     37.61    -121.99                 9.0       3666.0           711.0   \n",
       "2     37.57    -121.97                21.0       4342.0           783.0   \n",
       "3     37.58    -121.96                15.0       3575.0           597.0   \n",
       "4     37.58    -121.98                20.0       4126.0          1031.0   \n",
       "\n",
       "   population  households  median_income  median_house_value  \n",
       "0       485.0       171.0         6.0574            431000.0  \n",
       "1      2341.0       703.0         4.6458            217000.0  \n",
       "2      2172.0       789.0         4.6146            247600.0  \n",
       "3      1777.0       559.0         5.7192            283500.0  \n",
       "4      2079.0       975.0         3.6832            216900.0  "
      ]
     },
     "execution_count": 99,
     "metadata": {},
     "output_type": "execute_result"
    }
   ],
   "source": [
    "df.head()"
   ]
  },
  {
   "cell_type": "markdown",
   "id": "d62d9df6",
   "metadata": {},
   "source": [
    "## Question 1"
   ]
  },
  {
   "cell_type": "code",
   "execution_count": 100,
   "id": "f325cb33",
   "metadata": {},
   "outputs": [
    {
     "data": {
      "text/plain": [
       "latitude              False\n",
       "longitude             False\n",
       "housing_median_age    False\n",
       "total_rooms           False\n",
       "total_bedrooms         True\n",
       "population            False\n",
       "households            False\n",
       "median_income         False\n",
       "median_house_value    False\n",
       "dtype: bool"
      ]
     },
     "execution_count": 100,
     "metadata": {},
     "output_type": "execute_result"
    }
   ],
   "source": [
    " df.isna().any()"
   ]
  },
  {
   "cell_type": "code",
   "execution_count": 101,
   "id": "c40de8a5",
   "metadata": {},
   "outputs": [
    {
     "name": "stdout",
     "output_type": "stream",
     "text": [
      "The feature with missing value is total_bedrooms.\n"
     ]
    }
   ],
   "source": [
    "print(f'The feature with missing value is { df.columns[df.isna().any()][0]}.')"
   ]
  },
  {
   "cell_type": "markdown",
   "id": "c7cd25a4",
   "metadata": {},
   "source": [
    "## Question 2"
   ]
  },
  {
   "cell_type": "code",
   "execution_count": 102,
   "id": "4052f028",
   "metadata": {},
   "outputs": [
    {
     "data": {
      "text/plain": [
       "1195.0"
      ]
     },
     "execution_count": 102,
     "metadata": {},
     "output_type": "execute_result"
    }
   ],
   "source": [
    "population_median = df['population'].median()\n",
    "population_median"
   ]
  },
  {
   "cell_type": "code",
   "execution_count": 103,
   "id": "bcbf7447",
   "metadata": {},
   "outputs": [
    {
     "name": "stdout",
     "output_type": "stream",
     "text": [
      "The population median is 1195.0.\n"
     ]
    }
   ],
   "source": [
    "print(f'The population median is {population_median}.')"
   ]
  },
  {
   "cell_type": "markdown",
   "id": "50ce8e8a",
   "metadata": {},
   "source": [
    "## Prepare and split the dataset"
   ]
  },
  {
   "cell_type": "code",
   "execution_count": 104,
   "id": "f683bdf4",
   "metadata": {},
   "outputs": [],
   "source": [
    "# shuffle the Dataset\n",
    "n = len(df)\n",
    "\n",
    "np.random.seed(42)\n",
    "\n",
    "# split\n",
    "\n",
    "n_val = int(0.2 * n)\n",
    "n_test = int(0.2 * n)\n",
    "n_train = n - n_test - n_val\n",
    "\n",
    "idx = np.arange(n)\n",
    "np.random.shuffle(idx)\n",
    "\n",
    "df_shuffled = df.iloc[idx]\n",
    "\n",
    "df_train = df_shuffled[:n_train].copy()\n",
    "df_val = df_shuffled[n_train:n_train+n_val].copy()\n",
    "df_test = df_shuffled[n_train+n_val:].copy()\n",
    "\n",
    "\n",
    "# log1 transformation\n",
    "\n",
    "y_train_orig = df_train['median_house_value'].values\n",
    "y_val_orig = df_val['median_house_value'].values\n",
    "y_test_orig = df_test['median_house_value'].values\n",
    "\n",
    "y_train = np.log1p(df_train['median_house_value'].values)\n",
    "y_val = np.log1p(df_val['median_house_value'].values)\n",
    "y_test = np.log1p(df_test['median_house_value'].values)\n",
    "\n",
    "del df_train['median_house_value']\n",
    "del df_val['median_house_value']\n",
    "del df_test['median_house_value']"
   ]
  },
  {
   "cell_type": "markdown",
   "id": "0f33aa92",
   "metadata": {},
   "source": [
    "## Question 3"
   ]
  },
  {
   "cell_type": "code",
   "execution_count": 105,
   "id": "6c48eed9",
   "metadata": {},
   "outputs": [],
   "source": [
    "# Create function to fill NAs with zeros\n",
    "\n",
    "def prepare_X_with_zeros(df):\n",
    "    df = df.copy()\n",
    "    df_num = df.fillna(0)\n",
    "    X = df_num.values\n",
    "    return X\n",
    "    "
   ]
  },
  {
   "cell_type": "code",
   "execution_count": 106,
   "id": "4818b681",
   "metadata": {},
   "outputs": [],
   "source": [
    "# Create function to fill NAs with mean\n",
    "\n",
    "def prepare_X_with_mean(df):\n",
    "    df = df.copy()\n",
    "    df_num = df.fillna(df_train['total_bedrooms'].mean())\n",
    "    X = df_num.values\n",
    "    return X"
   ]
  },
  {
   "cell_type": "code",
   "execution_count": 107,
   "id": "a3b0f686",
   "metadata": {},
   "outputs": [],
   "source": [
    "# Create trainnig function\n",
    "\n",
    "def train_linear_regression(X, y):\n",
    "    ones = np.ones(X.shape[0])\n",
    "    X = np.column_stack([ones, X])\n",
    "    \n",
    "    XTX = X.T.dot(X)\n",
    "    XTX_inv = np.linalg.inv(XTX)\n",
    "    w = XTX_inv.dot(X.T).dot(y)\n",
    "    \n",
    "    return w[0], w[1:]"
   ]
  },
  {
   "cell_type": "code",
   "execution_count": 108,
   "id": "16345951",
   "metadata": {},
   "outputs": [],
   "source": [
    "# Create RMSE function\n",
    "\n",
    "def rmse(y, y_pred):\n",
    "    error = y_pred - y\n",
    "    mse = (error ** 2).mean()\n",
    "    return np.sqrt(mse)"
   ]
  },
  {
   "cell_type": "code",
   "execution_count": 109,
   "id": "c9e63603",
   "metadata": {},
   "outputs": [],
   "source": [
    "# Trainning with zeros\n",
    "X_val_with_zeros = prepare_X_with_zeros(df_val)\n",
    "X_train_with_zeros = prepare_X_with_zeros(df_train)"
   ]
  },
  {
   "cell_type": "code",
   "execution_count": 110,
   "id": "c8b3e795",
   "metadata": {},
   "outputs": [],
   "source": [
    "w_0, w = train_linear_regression(X_train_with_zeros, y_train)"
   ]
  },
  {
   "cell_type": "code",
   "execution_count": 111,
   "id": "4333e6f6",
   "metadata": {},
   "outputs": [],
   "source": [
    "y_pred = w_0 + X_val_with_zeros.dot(w)"
   ]
  },
  {
   "cell_type": "code",
   "execution_count": 112,
   "id": "3714203e",
   "metadata": {},
   "outputs": [],
   "source": [
    "zero_result = round(rmse(y_val, y_pred),2)"
   ]
  },
  {
   "cell_type": "code",
   "execution_count": 113,
   "id": "74c15539",
   "metadata": {},
   "outputs": [
    {
     "name": "stdout",
     "output_type": "stream",
     "text": [
      "The result with the zero option is: 0.34.\n"
     ]
    }
   ],
   "source": [
    "print(f'The result with the zero option is: {zero_result}.')"
   ]
  },
  {
   "cell_type": "code",
   "execution_count": 114,
   "id": "d97991bd",
   "metadata": {},
   "outputs": [],
   "source": [
    "# Trainnig with mean\n",
    "X_val_with_mean = prepare_X_with_mean(df_val)\n",
    "X_train_with_mean = prepare_X_with_mean(df_train)"
   ]
  },
  {
   "cell_type": "code",
   "execution_count": 115,
   "id": "99e965b1",
   "metadata": {},
   "outputs": [],
   "source": [
    "w_0, w = train_linear_regression(X_train_with_mean, y_train)"
   ]
  },
  {
   "cell_type": "code",
   "execution_count": 116,
   "id": "ca1bcdf3",
   "metadata": {},
   "outputs": [],
   "source": [
    "y_pred = w_0 + X_val_with_mean.dot(w)"
   ]
  },
  {
   "cell_type": "code",
   "execution_count": 117,
   "id": "013e4277",
   "metadata": {},
   "outputs": [],
   "source": [
    "mean_result = round(rmse(y_val, y_pred),2)"
   ]
  },
  {
   "cell_type": "code",
   "execution_count": 118,
   "id": "891cd54a",
   "metadata": {},
   "outputs": [
    {
     "name": "stdout",
     "output_type": "stream",
     "text": [
      "The result with the mean option is: 0.34.\n"
     ]
    }
   ],
   "source": [
    "print(f'The result with the mean option is: {mean_result}.')"
   ]
  },
  {
   "cell_type": "markdown",
   "id": "ca7f01a6",
   "metadata": {},
   "source": [
    "## Question 4"
   ]
  },
  {
   "cell_type": "code",
   "execution_count": 119,
   "id": "eeea836e",
   "metadata": {},
   "outputs": [],
   "source": [
    "# Create function for linear regression reg\n",
    "\n",
    "def train_linear_regression_reg(X, y, r=0.0):\n",
    "    ones = np.ones(X.shape[0])\n",
    "    X = np.column_stack([ones, X])\n",
    "    \n",
    "    XTX = X.T.dot(X)\n",
    "    reg = r * np.eye(XTX.shape[0])\n",
    "    XTX = XTX + reg\n",
    "    \n",
    "    XTX_inv = np.linalg.inv(XTX)\n",
    "    w = XTX_inv.dot(X.T).dot(y)\n",
    "    \n",
    "    return w[0], w[1:]"
   ]
  },
  {
   "cell_type": "code",
   "execution_count": 120,
   "id": "c94c4990",
   "metadata": {},
   "outputs": [],
   "source": [
    "X_train = prepare_X_with_zeros(df_train)\n",
    "X_val = prepare_X_with_zeros(df_val)"
   ]
  },
  {
   "cell_type": "code",
   "execution_count": 121,
   "id": "24a0042b",
   "metadata": {},
   "outputs": [
    {
     "name": "stdout",
     "output_type": "stream",
     "text": [
      "r: 0, w0: -9.76324947792922, RMSE: 0.34\n",
      "r: 1e-06, w0: -9.76322883158197, RMSE: 0.34\n",
      "r: 0.0001, w0: -9.761185235939118, RMSE: 0.34\n",
      "r: 0.001, w0: -9.74264624988528, RMSE: 0.34\n",
      "r: 0.01, w0: -9.561056193156471, RMSE: 0.34\n",
      "r: 0.1, w0: -8.058889769818062, RMSE: 0.34\n",
      "r: 1, w0: -3.1331542785822872, RMSE: 0.34\n",
      "r: 5, w0: -0.8410867975333891, RMSE: 0.35\n",
      "r: 10, w0: -0.4381172315908744, RMSE: 0.35\n"
     ]
    }
   ],
   "source": [
    "for r in [0, 0.000001, 0.0001, 0.001, 0.01, 0.1, 1, 5, 10]:\n",
    "    w_0, w = train_linear_regression_reg(X_train, y_train, r=r)\n",
    "    y_pred = w_0 + X_val.dot(w)\n",
    "    print(f'r: {r}, w0: {w_0}, RMSE: {round(rmse(y_val, y_pred), 2)}')\n"
   ]
  },
  {
   "cell_type": "markdown",
   "id": "e9219258",
   "metadata": {},
   "source": [
    "## Question 5"
   ]
  },
  {
   "cell_type": "code",
   "execution_count": 122,
   "id": "39fcd6b8",
   "metadata": {},
   "outputs": [
    {
     "name": "stdout",
     "output_type": "stream",
     "text": [
      "The STD of the results is: 0.005.\n"
     ]
    }
   ],
   "source": [
    "seeds = [0, 1, 2, 3, 4, 5, 6, 7, 8, 9]\n",
    "results = []\n",
    "\n",
    "for seed in seeds:\n",
    "    np.random.seed(seed)\n",
    "    \n",
    "    n_val = int(0.2 * n)\n",
    "    n_test = int(0.2 * n)\n",
    "    n_train = n - n_test - n_val\n",
    "\n",
    "    idx = np.arange(n)\n",
    "    np.random.shuffle(idx)\n",
    "\n",
    "    df_shuffled = df.iloc[idx]\n",
    "\n",
    "    df_train = df_shuffled[:n_train].copy()\n",
    "    df_val = df_shuffled[n_train:n_train+n_val].copy()\n",
    "    df_test = df_shuffled[n_train+n_val:].copy()\n",
    "\n",
    "\n",
    "    # log1 transformation\n",
    "\n",
    "    y_train_orig = df_train['median_house_value'].values\n",
    "    y_val_orig = df_val['median_house_value'].values\n",
    "    y_test_orig = df_test['median_house_value'].values\n",
    "\n",
    "    y_train = np.log1p(df_train['median_house_value'].values)\n",
    "    y_val = np.log1p(df_val['median_house_value'].values)\n",
    "    y_test = np.log1p(df_test['median_house_value'].values)\n",
    "\n",
    "    del df_train['median_house_value']\n",
    "    del df_val['median_house_value']\n",
    "    del df_test['median_house_value']\n",
    "    \n",
    "    X_val_with_zeros = prepare_X_with_zeros(df_val)\n",
    "    X_train_with_zeros = prepare_X_with_zeros(df_train)\n",
    "    \n",
    "    w_0, w = train_linear_regression(X_train_with_zeros, y_train)\n",
    "    y_pred = w_0 + X_val_with_zeros.dot(w)\n",
    "    \n",
    "    zero_result = rmse(y_val, y_pred)\n",
    "    \n",
    "    results.append(zero_result)\n",
    "\n",
    "\n",
    "rmse_std = round(np.std(results), 3)\n",
    "\n",
    "print(f'The STD of the results is: {rmse_std}.')"
   ]
  },
  {
   "cell_type": "markdown",
   "id": "a642b4e1",
   "metadata": {},
   "source": [
    "## Question 6"
   ]
  },
  {
   "cell_type": "code",
   "execution_count": 123,
   "id": "ac30fd73",
   "metadata": {},
   "outputs": [
    {
     "name": "stdout",
     "output_type": "stream",
     "text": [
      "The RMSE on the test dataset is: 0.33.\n"
     ]
    }
   ],
   "source": [
    "np.random.seed(9)\n",
    "r  = 0.001\n",
    "\n",
    "n_val = int(0.2 * n)\n",
    "n_test = int(0.2 * n)\n",
    "n_train = n - n_test - n_val\n",
    "\n",
    "idx = np.arange(n)\n",
    "np.random.shuffle(idx)\n",
    "\n",
    "df_shuffled = df.iloc[idx]\n",
    "\n",
    "df_train = df_shuffled[:n_train].copy()\n",
    "df_val = df_shuffled[n_train:n_train+n_val].copy()\n",
    "df_test = df_shuffled[n_train+n_val:].copy()\n",
    "\n",
    "df_full_train = pd.concat([df_train, df_val])\n",
    "df_full_train = df_full_train.reset_index(drop=True)\n",
    "\n",
    "y_full_train = np.log1p(df_full_train['median_house_value'].values)\n",
    "y_test = np.log1p(df_test['median_house_value'].values)\n",
    "\n",
    "del df_full_train['median_house_value']\n",
    "del df_test['median_house_value']\n",
    "\n",
    "X_full_train_with_zeros = prepare_X_with_zeros(df_full_train)\n",
    "X_test_with_zeros = prepare_X_with_zeros(df_test)\n",
    "\n",
    "w0, w = train_linear_regression_reg(X_full_train_with_zeros, y_full_train, r)\n",
    "y_pred = w0 + X_test_with_zeros.dot(w)\n",
    "\n",
    "result = round(rmse(y_test, y_pred),2)\n",
    "\n",
    "print(f'The RMSE on the test dataset is: {result}.')"
   ]
  }
 ],
 "metadata": {
  "kernelspec": {
   "display_name": "Python 3 (ipykernel)",
   "language": "python",
   "name": "python3"
  },
  "language_info": {
   "codemirror_mode": {
    "name": "ipython",
    "version": 3
   },
   "file_extension": ".py",
   "mimetype": "text/x-python",
   "name": "python",
   "nbconvert_exporter": "python",
   "pygments_lexer": "ipython3",
   "version": "3.11.4"
  }
 },
 "nbformat": 4,
 "nbformat_minor": 5
}
